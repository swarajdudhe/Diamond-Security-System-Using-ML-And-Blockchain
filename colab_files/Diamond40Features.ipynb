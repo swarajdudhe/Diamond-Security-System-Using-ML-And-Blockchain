{
 "cells": [
  {
   "cell_type": "code",
   "execution_count": 18,
   "id": "6c79bcb3-93ef-43ba-bf4a-e8073c550493",
   "metadata": {},
   "outputs": [],
   "source": [
    "#importing dependancies \n",
    "import numpy as np\n",
    "import pandas as pd\n",
    "from sklearn.model_selection import train_test_split\n",
    "from sklearn.metrics import accuracy_score\n",
    "import seaborn as sns\n",
    "import matplotlib.pyplot as plt\n",
    "from sklearn import metrics"
   ]
  },
  {
   "cell_type": "code",
   "execution_count": 19,
   "id": "41ddd89b-5f16-4e3c-b9ef-5c57abcee940",
   "metadata": {},
   "outputs": [],
   "source": [
    "#loading the dataset to a pandas Dataframe\n",
    "data = pd.read_csv('datasets/diamond_security_system.csv')"
   ]
  },
  {
   "cell_type": "code",
   "execution_count": 20,
   "id": "50c34d1b-7ab1-49c8-867e-8c1649c813ba",
   "metadata": {},
   "outputs": [
    {
     "data": {
      "text/html": [
       "<div>\n",
       "<style scoped>\n",
       "    .dataframe tbody tr th:only-of-type {\n",
       "        vertical-align: middle;\n",
       "    }\n",
       "\n",
       "    .dataframe tbody tr th {\n",
       "        vertical-align: top;\n",
       "    }\n",
       "\n",
       "    .dataframe thead th {\n",
       "        text-align: right;\n",
       "    }\n",
       "</style>\n",
       "<table border=\"1\" class=\"dataframe\">\n",
       "  <thead>\n",
       "    <tr style=\"text-align: right;\">\n",
       "      <th></th>\n",
       "      <th>DiamondID</th>\n",
       "      <th>DiamondName</th>\n",
       "      <th>DateOfMining</th>\n",
       "      <th>OwnerName</th>\n",
       "      <th>DiamondPrice</th>\n",
       "      <th>DiamondRating</th>\n",
       "      <th>Carat</th>\n",
       "      <th>Cut</th>\n",
       "      <th>Color</th>\n",
       "      <th>Clarity</th>\n",
       "      <th>...</th>\n",
       "      <th>Fluorescence</th>\n",
       "      <th>Girdle</th>\n",
       "      <th>Culet</th>\n",
       "      <th>Length_CW_Ratio</th>\n",
       "      <th>Width_CW_Ratio</th>\n",
       "      <th>Height_CW_Ratio</th>\n",
       "      <th>Ang_Pav_Polish</th>\n",
       "      <th>Ang_Girdle</th>\n",
       "      <th>Ang_Culet</th>\n",
       "      <th>Authentic</th>\n",
       "    </tr>\n",
       "  </thead>\n",
       "  <tbody>\n",
       "    <tr>\n",
       "      <th>0</th>\n",
       "      <td>GIA10000</td>\n",
       "      <td>Kohinoor</td>\n",
       "      <td>1526</td>\n",
       "      <td>Ananya Patel</td>\n",
       "      <td>576625</td>\n",
       "      <td>7.57</td>\n",
       "      <td>0.3</td>\n",
       "      <td>3</td>\n",
       "      <td>4</td>\n",
       "      <td>3.0</td>\n",
       "      <td>...</td>\n",
       "      <td>Faint</td>\n",
       "      <td>Thin</td>\n",
       "      <td>Large</td>\n",
       "      <td>1.037574</td>\n",
       "      <td>0.963787</td>\n",
       "      <td>0.854893</td>\n",
       "      <td>0.273462</td>\n",
       "      <td>5.100208</td>\n",
       "      <td>6.473731</td>\n",
       "      <td>1</td>\n",
       "    </tr>\n",
       "    <tr>\n",
       "      <th>1</th>\n",
       "      <td>GIA10001</td>\n",
       "      <td>Hope Diamond</td>\n",
       "      <td>1666</td>\n",
       "      <td>Aditya Sharma</td>\n",
       "      <td>557419</td>\n",
       "      <td>8.14</td>\n",
       "      <td>0.7</td>\n",
       "      <td>4</td>\n",
       "      <td>5</td>\n",
       "      <td>2.0</td>\n",
       "      <td>...</td>\n",
       "      <td>Faint</td>\n",
       "      <td>Thick</td>\n",
       "      <td>Large</td>\n",
       "      <td>1.475181</td>\n",
       "      <td>0.677883</td>\n",
       "      <td>0.555914</td>\n",
       "      <td>9.924448</td>\n",
       "      <td>3.329701</td>\n",
       "      <td>2.347622</td>\n",
       "      <td>1</td>\n",
       "    </tr>\n",
       "    <tr>\n",
       "      <th>2</th>\n",
       "      <td>GIA10002</td>\n",
       "      <td>Blue Moon Diamond</td>\n",
       "      <td>2014</td>\n",
       "      <td>Aarav Singh</td>\n",
       "      <td>665386</td>\n",
       "      <td>9.03</td>\n",
       "      <td>0.5</td>\n",
       "      <td>1</td>\n",
       "      <td>6</td>\n",
       "      <td>4.0</td>\n",
       "      <td>...</td>\n",
       "      <td>Medium</td>\n",
       "      <td>Medium</td>\n",
       "      <td>Large</td>\n",
       "      <td>1.153349</td>\n",
       "      <td>0.867040</td>\n",
       "      <td>0.687244</td>\n",
       "      <td>1.077413</td>\n",
       "      <td>8.218450</td>\n",
       "      <td>6.763676</td>\n",
       "      <td>1</td>\n",
       "    </tr>\n",
       "    <tr>\n",
       "      <th>3</th>\n",
       "      <td>GIA10003</td>\n",
       "      <td>Star of Africa</td>\n",
       "      <td>1905</td>\n",
       "      <td>Akshay Desai</td>\n",
       "      <td>456223</td>\n",
       "      <td>9.99</td>\n",
       "      <td>1.5</td>\n",
       "      <td>3</td>\n",
       "      <td>5</td>\n",
       "      <td>3.0</td>\n",
       "      <td>...</td>\n",
       "      <td>Faint</td>\n",
       "      <td>Medium</td>\n",
       "      <td>Small</td>\n",
       "      <td>0.517262</td>\n",
       "      <td>1.933256</td>\n",
       "      <td>0.435962</td>\n",
       "      <td>8.855525</td>\n",
       "      <td>4.592631</td>\n",
       "      <td>3.086526</td>\n",
       "      <td>1</td>\n",
       "    </tr>\n",
       "    <tr>\n",
       "      <th>4</th>\n",
       "      <td>GIA10004</td>\n",
       "      <td>Regent Diamond</td>\n",
       "      <td>1701</td>\n",
       "      <td>Bhavya Joshi</td>\n",
       "      <td>563894</td>\n",
       "      <td>9.32</td>\n",
       "      <td>0.9</td>\n",
       "      <td>2</td>\n",
       "      <td>7</td>\n",
       "      <td>0.1</td>\n",
       "      <td>...</td>\n",
       "      <td>NaN</td>\n",
       "      <td>Medium</td>\n",
       "      <td>Small</td>\n",
       "      <td>0.914433</td>\n",
       "      <td>1.093574</td>\n",
       "      <td>0.347979</td>\n",
       "      <td>4.132917</td>\n",
       "      <td>6.861855</td>\n",
       "      <td>7.191979</td>\n",
       "      <td>1</td>\n",
       "    </tr>\n",
       "  </tbody>\n",
       "</table>\n",
       "<p>5 rows × 28 columns</p>\n",
       "</div>"
      ],
      "text/plain": [
       "  DiamondID        DiamondName  DateOfMining      OwnerName  DiamondPrice  \\\n",
       "0  GIA10000           Kohinoor          1526   Ananya Patel        576625   \n",
       "1  GIA10001       Hope Diamond          1666  Aditya Sharma        557419   \n",
       "2  GIA10002  Blue Moon Diamond          2014    Aarav Singh        665386   \n",
       "3  GIA10003     Star of Africa          1905   Akshay Desai        456223   \n",
       "4  GIA10004     Regent Diamond          1701   Bhavya Joshi        563894   \n",
       "\n",
       "   DiamondRating  Carat  Cut  Color  Clarity  ...   Fluorescence    Girdle   \\\n",
       "0           7.57    0.3    3      4      3.0  ...           Faint      Thin   \n",
       "1           8.14    0.7    4      5      2.0  ...           Faint     Thick   \n",
       "2           9.03    0.5    1      6      4.0  ...          Medium    Medium   \n",
       "3           9.99    1.5    3      5      3.0  ...           Faint    Medium   \n",
       "4           9.32    0.9    2      7      0.1  ...             NaN    Medium   \n",
       "\n",
       "    Culet    Length_CW_Ratio    Width_CW_Ratio    Height_CW_Ratio   \\\n",
       "0    Large           1.037574          0.963787           0.854893   \n",
       "1    Large           1.475181          0.677883           0.555914   \n",
       "2    Large           1.153349          0.867040           0.687244   \n",
       "3    Small           0.517262          1.933256           0.435962   \n",
       "4    Small           0.914433          1.093574           0.347979   \n",
       "\n",
       "   Ang_Pav_Polish   Ang_Girdle   Ang_Culet  Authentic  \n",
       "0         0.273462     5.100208    6.473731         1  \n",
       "1         9.924448     3.329701    2.347622         1  \n",
       "2         1.077413     8.218450    6.763676         1  \n",
       "3         8.855525     4.592631    3.086526         1  \n",
       "4         4.132917     6.861855    7.191979         1  \n",
       "\n",
       "[5 rows x 28 columns]"
      ]
     },
     "execution_count": 20,
     "metadata": {},
     "output_type": "execute_result"
    }
   ],
   "source": [
    "# printing the head of data\n",
    "data.head()"
   ]
  },
  {
   "cell_type": "code",
   "execution_count": 21,
   "id": "44696abe-296e-4336-b1fa-b8ecb03fb17d",
   "metadata": {},
   "outputs": [
    {
     "data": {
      "text/plain": [
       "(301, 28)"
      ]
     },
     "execution_count": 21,
     "metadata": {},
     "output_type": "execute_result"
    }
   ],
   "source": [
    "# number of rows and columns\n",
    "data.shape"
   ]
  },
  {
   "cell_type": "code",
   "execution_count": 22,
   "id": "125a9601-305f-4a5e-a29a-f45821942d55",
   "metadata": {},
   "outputs": [
    {
     "name": "stdout",
     "output_type": "stream",
     "text": [
      "       DateOfMining   DiamondPrice  DiamondRating       Carat         Cut  \\\n",
      "count    301.000000     301.000000     301.000000  301.000000  301.000000   \n",
      "mean    1914.431894  199663.767442       8.227575    0.902658    2.465116   \n",
      "std       70.512643  271793.160832       1.007196    0.331350    1.114875   \n",
      "min     1526.000000   18295.000000       6.510000    0.300000    1.000000   \n",
      "25%     1863.000000   18485.000000       7.390000    0.600000    1.000000   \n",
      "50%     1921.000000   18718.000000       8.260000    0.800000    2.000000   \n",
      "75%     1974.000000  367691.000000       9.120000    1.200000    3.000000   \n",
      "max     2022.000000  983637.000000      10.000000    1.500000    4.000000   \n",
      "\n",
      "            Color     Clarity    Symmetry       Depth       Table     Length   \\\n",
      "count  301.000000  301.000000  301.000000  301.000000  301.000000  301.000000   \n",
      "mean     6.069767    2.118272    2.013289   59.822632   59.908852    6.377651   \n",
      "std      1.411305    1.436488    0.832560    6.006179    5.690024    2.048632   \n",
      "min      4.000000    0.100000    1.000000   50.026213   50.019640    3.025435   \n",
      "25%      5.000000    1.000000    1.000000   54.341372   54.256995    4.472825   \n",
      "50%      6.000000    2.000000    2.000000   59.730618   59.714241    6.433345   \n",
      "75%      7.000000    3.000000    3.000000   65.077779   64.994086    7.994630   \n",
      "max      8.000000    4.000000    3.000000   69.946695   69.930748    9.968507   \n",
      "\n",
      "           Width      Height    Length_CW_Ratio    Width_CW_Ratio   \\\n",
      "count  301.000000  301.000000         301.000000        301.000000   \n",
      "mean     6.601228    2.993489           1.070445          1.156687   \n",
      "std      2.028786    1.120154           0.502271          0.556203   \n",
      "min      3.001445    1.004393           0.354156          0.357489   \n",
      "25%      4.839863    2.005115           0.715523          0.748341   \n",
      "50%      6.636448    3.075776           0.980643          1.019739   \n",
      "75%      8.462323    3.922950           1.336289          1.397578   \n",
      "max      9.961504    4.986883           2.797289          2.823617   \n",
      "\n",
      "        Height_CW_Ratio    Ang_Pav_Polish    Ang_Girdle    Ang_Culet   \\\n",
      "count         301.000000        301.000000    301.000000   301.000000   \n",
      "mean            0.511643          4.973185      5.399761     5.181325   \n",
      "std             0.280277          2.862342      2.889098     2.929684   \n",
      "min             0.112873          0.000176      0.015067     0.005375   \n",
      "25%             0.299989          2.474430      3.015871     2.686598   \n",
      "50%             0.453366          4.985401      5.628523     5.066126   \n",
      "75%             0.667821          7.361634      8.087326     7.847480   \n",
      "max             1.392896          9.994446      9.939368     9.976397   \n",
      "\n",
      "        Authentic  \n",
      "count  301.000000  \n",
      "mean     0.392027  \n",
      "std      0.489016  \n",
      "min      0.000000  \n",
      "25%      0.000000  \n",
      "50%      0.000000  \n",
      "75%      1.000000  \n",
      "max      1.000000  \n"
     ]
    }
   ],
   "source": [
    "# Check summary statistics\n",
    "print(data.describe())"
   ]
  },
  {
   "cell_type": "code",
   "execution_count": 23,
   "id": "388bd9c2-902d-43ef-9206-81757c271001",
   "metadata": {},
   "outputs": [
    {
     "name": "stdout",
     "output_type": "stream",
     "text": [
      "<class 'pandas.core.frame.DataFrame'>\n",
      "RangeIndex: 301 entries, 0 to 300\n",
      "Data columns (total 28 columns):\n",
      " #   Column             Non-Null Count  Dtype  \n",
      "---  ------             --------------  -----  \n",
      " 0   DiamondID          301 non-null    object \n",
      " 1   DiamondName        301 non-null    object \n",
      " 2   DateOfMining       301 non-null    int64  \n",
      " 3   OwnerName          301 non-null    object \n",
      " 4   DiamondPrice       301 non-null    int64  \n",
      " 5   DiamondRating      301 non-null    float64\n",
      " 6   Carat              301 non-null    float64\n",
      " 7   Cut                301 non-null    int64  \n",
      " 8   Color              301 non-null    int64  \n",
      " 9   Clarity            301 non-null    float64\n",
      " 10  Symmetry           301 non-null    int64  \n",
      " 11  Depth              301 non-null    float64\n",
      " 12  Table              301 non-null    float64\n",
      " 13   Length            301 non-null    float64\n",
      " 14   Width             301 non-null    float64\n",
      " 15   Height            301 non-null    float64\n",
      " 16   Cut_Grade         301 non-null    object \n",
      " 17   Polish_Grade      301 non-null    object \n",
      " 18   Fluorescence      225 non-null    object \n",
      " 19   Girdle            301 non-null    object \n",
      " 20   Culet             222 non-null    object \n",
      " 21   Length_CW_Ratio   301 non-null    float64\n",
      " 22   Width_CW_Ratio    301 non-null    float64\n",
      " 23   Height_CW_Ratio   301 non-null    float64\n",
      " 24   Ang_Pav_Polish    301 non-null    float64\n",
      " 25   Ang_Girdle        301 non-null    float64\n",
      " 26   Ang_Culet         301 non-null    float64\n",
      " 27  Authentic          301 non-null    int64  \n",
      "dtypes: float64(14), int64(6), object(8)\n",
      "memory usage: 66.0+ KB\n",
      "None\n"
     ]
    }
   ],
   "source": [
    "# Check data types and missing values\n",
    "print(data.info())"
   ]
  },
  {
   "cell_type": "code",
   "execution_count": 24,
   "id": "29bb5995-41ca-44aa-8932-d2e5a1f5bdfa",
   "metadata": {},
   "outputs": [
    {
     "data": {
      "image/png": "[encoded data removed]",
      "text/plain": [
       "<Figure size 640x480 with 1 Axes>"
      ]
     },
     "metadata": {},
     "output_type": "display_data"
    }
   ],
   "source": [
    "# Visualize the distribution of target variable\n",
    "sns.countplot(x='Authentic', data=data)\n",
    "plt.title('Distribution of Diamond Authenticity')\n",
    "plt.show()"
   ]
  },
  {
   "cell_type": "code",
   "execution_count": 38,
   "id": "853bfec1-500c-4bca-9c31-f70be0d7b63d",
   "metadata": {},
   "outputs": [],
   "source": [
    "# List of columns to drop\n",
    "columns_to_drop = ['DiamondID', 'DiamondName', 'DateOfMining', 'OwnerName', 'DiamondRating']"
   ]
  },
  {
   "cell_type": "code",
   "execution_count": 39,
   "id": "d563c4af-3632-40f1-879c-aaa830451d21",
   "metadata": {},
   "outputs": [],
   "source": [
    "# Drop the specified columns\n",
    "new_dataset = data.drop(columns=columns_to_drop)"
   ]
  },
  {
   "cell_type": "code",
   "execution_count": 40,
   "id": "8a2d5bc0-4194-4155-a672-3ef8687478f9",
   "metadata": {},
   "outputs": [
    {
     "data": {
      "text/html": [
       "<div>\n",
       "<style scoped>\n",
       "    .dataframe tbody tr th:only-of-type {\n",
       "        vertical-align: middle;\n",
       "    }\n",
       "\n",
       "    .dataframe tbody tr th {\n",
       "        vertical-align: top;\n",
       "    }\n",
       "\n",
       "    .dataframe thead th {\n",
       "        text-align: right;\n",
       "    }\n",
       "</style>\n",
       "<table border=\"1\" class=\"dataframe\">\n",
       "  <thead>\n",
       "    <tr style=\"text-align: right;\">\n",
       "      <th></th>\n",
       "      <th>DiamondPrice</th>\n",
       "      <th>Carat</th>\n",
       "      <th>Cut</th>\n",
       "      <th>Color</th>\n",
       "      <th>Clarity</th>\n",
       "      <th>Symmetry</th>\n",
       "      <th>Depth</th>\n",
       "      <th>Table</th>\n",
       "      <th>Length</th>\n",
       "      <th>Width</th>\n",
       "      <th>...</th>\n",
       "      <th>Fluorescence</th>\n",
       "      <th>Girdle</th>\n",
       "      <th>Culet</th>\n",
       "      <th>Length_CW_Ratio</th>\n",
       "      <th>Width_CW_Ratio</th>\n",
       "      <th>Height_CW_Ratio</th>\n",
       "      <th>Ang_Pav_Polish</th>\n",
       "      <th>Ang_Girdle</th>\n",
       "      <th>Ang_Culet</th>\n",
       "      <th>Authentic</th>\n",
       "    </tr>\n",
       "  </thead>\n",
       "  <tbody>\n",
       "    <tr>\n",
       "      <th>0</th>\n",
       "      <td>576625</td>\n",
       "      <td>0.3</td>\n",
       "      <td>3</td>\n",
       "      <td>4</td>\n",
       "      <td>3.0</td>\n",
       "      <td>3</td>\n",
       "      <td>69.353189</td>\n",
       "      <td>69.930748</td>\n",
       "      <td>5.597605</td>\n",
       "      <td>5.394899</td>\n",
       "      <td>...</td>\n",
       "      <td>Faint</td>\n",
       "      <td>Thin</td>\n",
       "      <td>Large</td>\n",
       "      <td>1.037574</td>\n",
       "      <td>0.963787</td>\n",
       "      <td>0.854893</td>\n",
       "      <td>0.273462</td>\n",
       "      <td>5.100208</td>\n",
       "      <td>6.473731</td>\n",
       "      <td>1</td>\n",
       "    </tr>\n",
       "    <tr>\n",
       "      <th>1</th>\n",
       "      <td>557419</td>\n",
       "      <td>0.7</td>\n",
       "      <td>4</td>\n",
       "      <td>5</td>\n",
       "      <td>2.0</td>\n",
       "      <td>2</td>\n",
       "      <td>66.284807</td>\n",
       "      <td>60.916175</td>\n",
       "      <td>9.783854</td>\n",
       "      <td>6.632307</td>\n",
       "      <td>...</td>\n",
       "      <td>Faint</td>\n",
       "      <td>Thick</td>\n",
       "      <td>Large</td>\n",
       "      <td>1.475181</td>\n",
       "      <td>0.677883</td>\n",
       "      <td>0.555914</td>\n",
       "      <td>9.924448</td>\n",
       "      <td>3.329701</td>\n",
       "      <td>2.347622</td>\n",
       "      <td>1</td>\n",
       "    </tr>\n",
       "    <tr>\n",
       "      <th>2</th>\n",
       "      <td>665386</td>\n",
       "      <td>0.5</td>\n",
       "      <td>1</td>\n",
       "      <td>6</td>\n",
       "      <td>4.0</td>\n",
       "      <td>3</td>\n",
       "      <td>52.999363</td>\n",
       "      <td>66.486434</td>\n",
       "      <td>6.242801</td>\n",
       "      <td>5.412760</td>\n",
       "      <td>...</td>\n",
       "      <td>Medium</td>\n",
       "      <td>Medium</td>\n",
       "      <td>Large</td>\n",
       "      <td>1.153349</td>\n",
       "      <td>0.867040</td>\n",
       "      <td>0.687244</td>\n",
       "      <td>1.077413</td>\n",
       "      <td>8.218450</td>\n",
       "      <td>6.763676</td>\n",
       "      <td>1</td>\n",
       "    </tr>\n",
       "    <tr>\n",
       "      <th>3</th>\n",
       "      <td>456223</td>\n",
       "      <td>1.5</td>\n",
       "      <td>3</td>\n",
       "      <td>5</td>\n",
       "      <td>3.0</td>\n",
       "      <td>3</td>\n",
       "      <td>69.838606</td>\n",
       "      <td>52.382877</td>\n",
       "      <td>3.729146</td>\n",
       "      <td>7.209393</td>\n",
       "      <td>...</td>\n",
       "      <td>Faint</td>\n",
       "      <td>Medium</td>\n",
       "      <td>Small</td>\n",
       "      <td>0.517262</td>\n",
       "      <td>1.933256</td>\n",
       "      <td>0.435962</td>\n",
       "      <td>8.855525</td>\n",
       "      <td>4.592631</td>\n",
       "      <td>3.086526</td>\n",
       "      <td>1</td>\n",
       "    </tr>\n",
       "    <tr>\n",
       "      <th>4</th>\n",
       "      <td>563894</td>\n",
       "      <td>0.9</td>\n",
       "      <td>2</td>\n",
       "      <td>7</td>\n",
       "      <td>0.1</td>\n",
       "      <td>1</td>\n",
       "      <td>55.348372</td>\n",
       "      <td>65.555957</td>\n",
       "      <td>6.730675</td>\n",
       "      <td>7.360492</td>\n",
       "      <td>...</td>\n",
       "      <td>NaN</td>\n",
       "      <td>Medium</td>\n",
       "      <td>Small</td>\n",
       "      <td>0.914433</td>\n",
       "      <td>1.093574</td>\n",
       "      <td>0.347979</td>\n",
       "      <td>4.132917</td>\n",
       "      <td>6.861855</td>\n",
       "      <td>7.191979</td>\n",
       "      <td>1</td>\n",
       "    </tr>\n",
       "  </tbody>\n",
       "</table>\n",
       "<p>5 rows × 23 columns</p>\n",
       "</div>"
      ],
      "text/plain": [
       "   DiamondPrice  Carat  Cut  Color  Clarity  Symmetry      Depth      Table  \\\n",
       "0        576625    0.3    3      4      3.0         3  69.353189  69.930748   \n",
       "1        557419    0.7    4      5      2.0         2  66.284807  60.916175   \n",
       "2        665386    0.5    1      6      4.0         3  52.999363  66.486434   \n",
       "3        456223    1.5    3      5      3.0         3  69.838606  52.382877   \n",
       "4        563894    0.9    2      7      0.1         1  55.348372  65.555957   \n",
       "\n",
       "    Length     Width   ...   Fluorescence   Girdle   Culet   Length_CW_Ratio   \\\n",
       "0  5.597605  5.394899  ...           Faint     Thin   Large          1.037574   \n",
       "1  9.783854  6.632307  ...           Faint    Thick   Large          1.475181   \n",
       "2  6.242801  5.412760  ...          Medium   Medium   Large          1.153349   \n",
       "3  3.729146  7.209393  ...           Faint   Medium   Small          0.517262   \n",
       "4  6.730675  7.360492  ...             NaN   Medium   Small          0.914433   \n",
       "\n",
       "   Width_CW_Ratio   Height_CW_Ratio    Ang_Pav_Polish    Ang_Girdle   \\\n",
       "0         0.963787          0.854893          0.273462      5.100208   \n",
       "1         0.677883          0.555914          9.924448      3.329701   \n",
       "2         0.867040          0.687244          1.077413      8.218450   \n",
       "3         1.933256          0.435962          8.855525      4.592631   \n",
       "4         1.093574          0.347979          4.132917      6.861855   \n",
       "\n",
       "    Ang_Culet   Authentic  \n",
       "0     6.473731          1  \n",
       "1     2.347622          1  \n",
       "2     6.763676          1  \n",
       "3     3.086526          1  \n",
       "4     7.191979          1  \n",
       "\n",
       "[5 rows x 23 columns]"
      ]
     },
     "execution_count": 40,
     "metadata": {},
     "output_type": "execute_result"
    }
   ],
   "source": [
    "new_dataset.head()"
   ]
  },
  {
   "cell_type": "code",
   "execution_count": 41,
   "id": "3965472f-c21c-4b1f-82ab-9f8183c072f4",
   "metadata": {},
   "outputs": [
    {
     "data": {
      "text/plain": [
       "(301, 23)"
      ]
     },
     "execution_count": 41,
     "metadata": {},
     "output_type": "execute_result"
    }
   ],
   "source": [
    "new_dataset.shape"
   ]
  },
  {
   "cell_type": "code",
   "execution_count": 42,
   "id": "5351290c-1ecb-486a-b4d3-bf26c0ab02d5",
   "metadata": {},
   "outputs": [
    {
     "name": "stdout",
     "output_type": "stream",
     "text": [
      "<class 'pandas.core.frame.DataFrame'>\n",
      "RangeIndex: 301 entries, 0 to 300\n",
      "Data columns (total 23 columns):\n",
      " #   Column             Non-Null Count  Dtype  \n",
      "---  ------             --------------  -----  \n",
      " 0   DiamondPrice       301 non-null    int64  \n",
      " 1   Carat              301 non-null    float64\n",
      " 2   Cut                301 non-null    int64  \n",
      " 3   Color              301 non-null    int64  \n",
      " 4   Clarity            301 non-null    float64\n",
      " 5   Symmetry           301 non-null    int64  \n",
      " 6   Depth              301 non-null    float64\n",
      " 7   Table              301 non-null    float64\n",
      " 8    Length            301 non-null    float64\n",
      " 9    Width             301 non-null    float64\n",
      " 10   Height            301 non-null    float64\n",
      " 11   Cut_Grade         301 non-null    object \n",
      " 12   Polish_Grade      301 non-null    object \n",
      " 13   Fluorescence      225 non-null    object \n",
      " 14   Girdle            301 non-null    object \n",
      " 15   Culet             222 non-null    object \n",
      " 16   Length_CW_Ratio   301 non-null    float64\n",
      " 17   Width_CW_Ratio    301 non-null    float64\n",
      " 18   Height_CW_Ratio   301 non-null    float64\n",
      " 19   Ang_Pav_Polish    301 non-null    float64\n",
      " 20   Ang_Girdle        301 non-null    float64\n",
      " 21   Ang_Culet         301 non-null    float64\n",
      " 22  Authentic          301 non-null    int64  \n",
      "dtypes: float64(13), int64(5), object(5)\n",
      "memory usage: 54.2+ KB\n"
     ]
    }
   ],
   "source": [
    "new_dataset.info()"
   ]
  },
  {
   "cell_type": "code",
   "execution_count": 53,
   "id": "4da18104-4921-4de8-97ac-690f5788d3c8",
   "metadata": {},
   "outputs": [],
   "source": [
    "import pandas as pd\n",
    "from sklearn.preprocessing import LabelEncoder\n",
    "\n",
    "# Load the original dataset\n",
    "encoded_dataset = new_dataset  # Replace \"original_dataset.csv\" with the path to your dataset\n",
    "\n",
    "# List of columns to encode\n",
    "columns_to_encode = [' Cut_Grade ',' Polish_Grade ', ' Fluorescence ', ' Girdle ', ' Culet ']\n",
    "\n",
    "# Initialize LabelEncoder\n",
    "label_encoder = LabelEncoder()\n",
    "\n",
    "# Apply Label Encoding to each column\n",
    "for column in columns_to_encode:\n",
    "    # Extract the column\n",
    "    column_data = encoded_dataset[column]\n",
    "    \n",
    "    # Fit and transform the column\n",
    "    encoded_data = label_encoder.fit_transform(column_data)\n",
    "    \n",
    "    # Replace the original column with the encoded values\n",
    "    encoded_dataset[column] = encoded_data"
   ]
  },
  {
   "cell_type": "code",
   "execution_count": 55,
   "id": "df6ff36a-27fe-4b71-91a3-246294d84be0",
   "metadata": {},
   "outputs": [
    {
     "data": {
      "text/html": [
       "<div>\n",
       "<style scoped>\n",
       "    .dataframe tbody tr th:only-of-type {\n",
       "        vertical-align: middle;\n",
       "    }\n",
       "\n",
       "    .dataframe tbody tr th {\n",
       "        vertical-align: top;\n",
       "    }\n",
       "\n",
       "    .dataframe thead th {\n",
       "        text-align: right;\n",
       "    }\n",
       "</style>\n",
       "<table border=\"1\" class=\"dataframe\">\n",
       "  <thead>\n",
       "    <tr style=\"text-align: right;\">\n",
       "      <th></th>\n",
       "      <th>DiamondPrice</th>\n",
       "      <th>Carat</th>\n",
       "      <th>Cut</th>\n",
       "      <th>Color</th>\n",
       "      <th>Clarity</th>\n",
       "      <th>Symmetry</th>\n",
       "      <th>Depth</th>\n",
       "      <th>Table</th>\n",
       "      <th>Length</th>\n",
       "      <th>Width</th>\n",
       "      <th>...</th>\n",
       "      <th>Fluorescence</th>\n",
       "      <th>Girdle</th>\n",
       "      <th>Culet</th>\n",
       "      <th>Length_CW_Ratio</th>\n",
       "      <th>Width_CW_Ratio</th>\n",
       "      <th>Height_CW_Ratio</th>\n",
       "      <th>Ang_Pav_Polish</th>\n",
       "      <th>Ang_Girdle</th>\n",
       "      <th>Ang_Culet</th>\n",
       "      <th>Authentic</th>\n",
       "    </tr>\n",
       "  </thead>\n",
       "  <tbody>\n",
       "    <tr>\n",
       "      <th>0</th>\n",
       "      <td>576625</td>\n",
       "      <td>0.3</td>\n",
       "      <td>3</td>\n",
       "      <td>4</td>\n",
       "      <td>3.0</td>\n",
       "      <td>3</td>\n",
       "      <td>69.353189</td>\n",
       "      <td>69.930748</td>\n",
       "      <td>5.597605</td>\n",
       "      <td>5.394899</td>\n",
       "      <td>...</td>\n",
       "      <td>0</td>\n",
       "      <td>2</td>\n",
       "      <td>0</td>\n",
       "      <td>1.037574</td>\n",
       "      <td>0.963787</td>\n",
       "      <td>0.854893</td>\n",
       "      <td>0.273462</td>\n",
       "      <td>5.100208</td>\n",
       "      <td>6.473731</td>\n",
       "      <td>1</td>\n",
       "    </tr>\n",
       "    <tr>\n",
       "      <th>1</th>\n",
       "      <td>557419</td>\n",
       "      <td>0.7</td>\n",
       "      <td>4</td>\n",
       "      <td>5</td>\n",
       "      <td>2.0</td>\n",
       "      <td>2</td>\n",
       "      <td>66.284807</td>\n",
       "      <td>60.916175</td>\n",
       "      <td>9.783854</td>\n",
       "      <td>6.632307</td>\n",
       "      <td>...</td>\n",
       "      <td>0</td>\n",
       "      <td>1</td>\n",
       "      <td>0</td>\n",
       "      <td>1.475181</td>\n",
       "      <td>0.677883</td>\n",
       "      <td>0.555914</td>\n",
       "      <td>9.924448</td>\n",
       "      <td>3.329701</td>\n",
       "      <td>2.347622</td>\n",
       "      <td>1</td>\n",
       "    </tr>\n",
       "    <tr>\n",
       "      <th>2</th>\n",
       "      <td>665386</td>\n",
       "      <td>0.5</td>\n",
       "      <td>1</td>\n",
       "      <td>6</td>\n",
       "      <td>4.0</td>\n",
       "      <td>3</td>\n",
       "      <td>52.999363</td>\n",
       "      <td>66.486434</td>\n",
       "      <td>6.242801</td>\n",
       "      <td>5.412760</td>\n",
       "      <td>...</td>\n",
       "      <td>1</td>\n",
       "      <td>0</td>\n",
       "      <td>0</td>\n",
       "      <td>1.153349</td>\n",
       "      <td>0.867040</td>\n",
       "      <td>0.687244</td>\n",
       "      <td>1.077413</td>\n",
       "      <td>8.218450</td>\n",
       "      <td>6.763676</td>\n",
       "      <td>1</td>\n",
       "    </tr>\n",
       "    <tr>\n",
       "      <th>3</th>\n",
       "      <td>456223</td>\n",
       "      <td>1.5</td>\n",
       "      <td>3</td>\n",
       "      <td>5</td>\n",
       "      <td>3.0</td>\n",
       "      <td>3</td>\n",
       "      <td>69.838606</td>\n",
       "      <td>52.382877</td>\n",
       "      <td>3.729146</td>\n",
       "      <td>7.209393</td>\n",
       "      <td>...</td>\n",
       "      <td>0</td>\n",
       "      <td>0</td>\n",
       "      <td>2</td>\n",
       "      <td>0.517262</td>\n",
       "      <td>1.933256</td>\n",
       "      <td>0.435962</td>\n",
       "      <td>8.855525</td>\n",
       "      <td>4.592631</td>\n",
       "      <td>3.086526</td>\n",
       "      <td>1</td>\n",
       "    </tr>\n",
       "    <tr>\n",
       "      <th>4</th>\n",
       "      <td>563894</td>\n",
       "      <td>0.9</td>\n",
       "      <td>2</td>\n",
       "      <td>7</td>\n",
       "      <td>0.1</td>\n",
       "      <td>1</td>\n",
       "      <td>55.348372</td>\n",
       "      <td>65.555957</td>\n",
       "      <td>6.730675</td>\n",
       "      <td>7.360492</td>\n",
       "      <td>...</td>\n",
       "      <td>3</td>\n",
       "      <td>0</td>\n",
       "      <td>2</td>\n",
       "      <td>0.914433</td>\n",
       "      <td>1.093574</td>\n",
       "      <td>0.347979</td>\n",
       "      <td>4.132917</td>\n",
       "      <td>6.861855</td>\n",
       "      <td>7.191979</td>\n",
       "      <td>1</td>\n",
       "    </tr>\n",
       "  </tbody>\n",
       "</table>\n",
       "<p>5 rows × 23 columns</p>\n",
       "</div>"
      ],
      "text/plain": [
       "   DiamondPrice  Carat  Cut  Color  Clarity  Symmetry      Depth      Table  \\\n",
       "0        576625    0.3    3      4      3.0         3  69.353189  69.930748   \n",
       "1        557419    0.7    4      5      2.0         2  66.284807  60.916175   \n",
       "2        665386    0.5    1      6      4.0         3  52.999363  66.486434   \n",
       "3        456223    1.5    3      5      3.0         3  69.838606  52.382877   \n",
       "4        563894    0.9    2      7      0.1         1  55.348372  65.555957   \n",
       "\n",
       "    Length     Width   ...   Fluorescence    Girdle    Culet   \\\n",
       "0  5.597605  5.394899  ...               0         2        0   \n",
       "1  9.783854  6.632307  ...               0         1        0   \n",
       "2  6.242801  5.412760  ...               1         0        0   \n",
       "3  3.729146  7.209393  ...               0         0        2   \n",
       "4  6.730675  7.360492  ...               3         0        2   \n",
       "\n",
       "    Length_CW_Ratio    Width_CW_Ratio    Height_CW_Ratio    Ang_Pav_Polish   \\\n",
       "0           1.037574          0.963787           0.854893          0.273462   \n",
       "1           1.475181          0.677883           0.555914          9.924448   \n",
       "2           1.153349          0.867040           0.687244          1.077413   \n",
       "3           0.517262          1.933256           0.435962          8.855525   \n",
       "4           0.914433          1.093574           0.347979          4.132917   \n",
       "\n",
       "    Ang_Girdle    Ang_Culet   Authentic  \n",
       "0      5.100208     6.473731          1  \n",
       "1      3.329701     2.347622          1  \n",
       "2      8.218450     6.763676          1  \n",
       "3      4.592631     3.086526          1  \n",
       "4      6.861855     7.191979          1  \n",
       "\n",
       "[5 rows x 23 columns]"
      ]
     },
     "execution_count": 55,
     "metadata": {},
     "output_type": "execute_result"
    }
   ],
   "source": [
    "encoded_dataset.head()"
   ]
  },
  {
   "cell_type": "code",
   "execution_count": 57,
   "id": "3d9c5ad8-20af-4a66-9e2f-e8dd4696254a",
   "metadata": {},
   "outputs": [
    {
     "data": {
      "text/plain": [
       "(301, 23)"
      ]
     },
     "execution_count": 57,
     "metadata": {},
     "output_type": "execute_result"
    }
   ],
   "source": [
    "encoded_dataset.shape"
   ]
  },
  {
   "cell_type": "code",
   "execution_count": 62,
   "id": "daa6ac79-f43f-4553-ac58-8b4395075a16",
   "metadata": {},
   "outputs": [
    {
     "name": "stdout",
     "output_type": "stream",
     "text": [
      "     DiamondPrice  Carat  Cut  Color  Clarity  Symmetry      Depth      Table  \\\n",
      "0          576625    0.3    3      4      3.0         3  69.353189  69.930748   \n",
      "1          557419    0.7    4      5      2.0         2  66.284807  60.916175   \n",
      "2          665386    0.5    1      6      4.0         3  52.999363  66.486434   \n",
      "3          456223    1.5    3      5      3.0         3  69.838606  52.382877   \n",
      "4          563894    0.9    2      7      0.1         1  55.348372  65.555957   \n",
      "..            ...    ...  ...    ...      ...       ...        ...        ...   \n",
      "296         18304    0.7    3      5      2.0         3  52.384508  69.848248   \n",
      "297         18299    1.3    1      6      0.5         1  52.267931  53.521215   \n",
      "298         18296    0.6    3      4      0.1         1  58.449290  68.270501   \n",
      "299         18295    1.2    4      7      2.0         1  63.263329  54.192144   \n",
      "300         18295    0.7    3      8      3.0         1  60.864202  64.632861   \n",
      "\n",
      "      Length     Width   ...   Polish_Grade    Fluorescence    Girdle   \\\n",
      "0    5.597605  5.394899  ...               0               0         2   \n",
      "1    9.783854  6.632307  ...               4               0         1   \n",
      "2    6.242801  5.412760  ...               2               1         0   \n",
      "3    3.729146  7.209393  ...               3               0         0   \n",
      "4    6.730675  7.360492  ...               3               3         0   \n",
      "..        ...       ...  ...             ...             ...       ...   \n",
      "296  3.025435  8.542672  ...               1               3         1   \n",
      "297  4.804131  4.091839  ...               3               3         1   \n",
      "298  5.134555  8.393889  ...               1               2         1   \n",
      "299  7.322980  4.037175  ...               2               1         0   \n",
      "300  7.960415  3.006261  ...               2               0         1   \n",
      "\n",
      "      Culet    Length_CW_Ratio    Width_CW_Ratio    Height_CW_Ratio   \\\n",
      "0          0           1.037574          0.963787           0.854893   \n",
      "1          0           1.475181          0.677883           0.555914   \n",
      "2          0           1.153349          0.867040           0.687244   \n",
      "3          2           0.517262          1.933256           0.435962   \n",
      "4          2           0.914433          1.093574           0.347979   \n",
      "..       ...                ...               ...                ...   \n",
      "296        3           0.354156          2.823617           0.181406   \n",
      "297        2           1.174076          0.851734           0.941336   \n",
      "298        3           0.611702          1.634784           0.486161   \n",
      "299        1           1.813887          0.551302           0.978713   \n",
      "300        2           2.647945          0.377651           0.925695   \n",
      "\n",
      "      Ang_Pav_Polish    Ang_Girdle    Ang_Culet   \n",
      "0            0.273462      5.100208     6.473731  \n",
      "1            9.924448      3.329701     2.347622  \n",
      "2            1.077413      8.218450     6.763676  \n",
      "3            8.855525      4.592631     3.086526  \n",
      "4            4.132917      6.861855     7.191979  \n",
      "..                ...           ...          ...  \n",
      "296          5.139163      2.647479     2.877187  \n",
      "297          8.891715      8.477852     6.370216  \n",
      "298          6.634469      6.058057     0.297734  \n",
      "299          7.990302      5.824637     2.686598  \n",
      "300          7.705685      2.072016     1.209385  \n",
      "\n",
      "[301 rows x 22 columns]\n"
     ]
    }
   ],
   "source": [
    "# separating data and Labels\n",
    "X = encoded_dataset.iloc[:,:-1]\n",
    "print(X)"
   ]
  },
  {
   "cell_type": "code",
   "execution_count": 64,
   "id": "d8c18193-e421-4470-8b84-f20fe35bba72",
   "metadata": {},
   "outputs": [
    {
     "name": "stdout",
     "output_type": "stream",
     "text": [
      "0      1\n",
      "1      1\n",
      "2      1\n",
      "3      1\n",
      "4      1\n",
      "      ..\n",
      "296    0\n",
      "297    0\n",
      "298    0\n",
      "299    0\n",
      "300    0\n",
      "Name: Authentic, Length: 301, dtype: int64\n"
     ]
    }
   ],
   "source": [
    "Y = encoded_dataset.iloc[:,-1]\n",
    "print(Y)"
   ]
  },
  {
   "cell_type": "code",
   "execution_count": 65,
   "id": "2f607831-f9f5-4f8b-bcf0-2f411318c58e",
   "metadata": {},
   "outputs": [
    {
     "name": "stdout",
     "output_type": "stream",
     "text": [
      "(301, 22) (270, 22) (31, 22)\n"
     ]
    }
   ],
   "source": [
    "X_train, X_test, Y_train, Y_test = train_test_split(X, Y, test_size = 0.1, stratify=Y, random_state=1)\n",
    "print(X.shape, X_train.shape, X_test.shape)"
   ]
  },
  {
   "cell_type": "code",
   "execution_count": 66,
   "id": "fb592daa-cc30-4cfa-84e7-343fd7b68c89",
   "metadata": {},
   "outputs": [
    {
     "data": {
      "text/html": [
       "<style>#sk-container-id-2 {color: black;}#sk-container-id-2 pre{padding: 0;}#sk-container-id-2 div.sk-toggleable {background-color: white;}#sk-container-id-2 label.sk-toggleable__label {cursor: pointer;display: block;width: 100%;margin-bottom: 0;padding: 0.3em;box-sizing: border-box;text-align: center;}#sk-container-id-2 label.sk-toggleable__label-arrow:before {content: \"▸\";float: left;margin-right: 0.25em;color: #696969;}#sk-container-id-2 label.sk-toggleable__label-arrow:hover:before {color: black;}#sk-container-id-2 div.sk-estimator:hover label.sk-toggleable__label-arrow:before {color: black;}#sk-container-id-2 div.sk-toggleable__content {max-height: 0;max-width: 0;overflow: hidden;text-align: left;background-color: #f0f8ff;}#sk-container-id-2 div.sk-toggleable__content pre {margin: 0.2em;color: black;border-radius: 0.25em;background-color: #f0f8ff;}#sk-container-id-2 input.sk-toggleable__control:checked~div.sk-toggleable__content {max-height: 200px;max-width: 100%;overflow: auto;}#sk-container-id-2 input.sk-toggleable__control:checked~label.sk-toggleable__label-arrow:before {content: \"▾\";}#sk-container-id-2 div.sk-estimator input.sk-toggleable__control:checked~label.sk-toggleable__label {background-color: #d4ebff;}#sk-container-id-2 div.sk-label input.sk-toggleable__control:checked~label.sk-toggleable__label {background-color: #d4ebff;}#sk-container-id-2 input.sk-hidden--visually {border: 0;clip: rect(1px 1px 1px 1px);clip: rect(1px, 1px, 1px, 1px);height: 1px;margin: -1px;overflow: hidden;padding: 0;position: absolute;width: 1px;}#sk-container-id-2 div.sk-estimator {font-family: monospace;background-color: #f0f8ff;border: 1px dotted black;border-radius: 0.25em;box-sizing: border-box;margin-bottom: 0.5em;}#sk-container-id-2 div.sk-estimator:hover {background-color: #d4ebff;}#sk-container-id-2 div.sk-parallel-item::after {content: \"\";width: 100%;border-bottom: 1px solid gray;flex-grow: 1;}#sk-container-id-2 div.sk-label:hover label.sk-toggleable__label {background-color: #d4ebff;}#sk-container-id-2 div.sk-serial::before {content: \"\";position: absolute;border-left: 1px solid gray;box-sizing: border-box;top: 0;bottom: 0;left: 50%;z-index: 0;}#sk-container-id-2 div.sk-serial {display: flex;flex-direction: column;align-items: center;background-color: white;padding-right: 0.2em;padding-left: 0.2em;position: relative;}#sk-container-id-2 div.sk-item {position: relative;z-index: 1;}#sk-container-id-2 div.sk-parallel {display: flex;align-items: stretch;justify-content: center;background-color: white;position: relative;}#sk-container-id-2 div.sk-item::before, #sk-container-id-2 div.sk-parallel-item::before {content: \"\";position: absolute;border-left: 1px solid gray;box-sizing: border-box;top: 0;bottom: 0;left: 50%;z-index: -1;}#sk-container-id-2 div.sk-parallel-item {display: flex;flex-direction: column;z-index: 1;position: relative;background-color: white;}#sk-container-id-2 div.sk-parallel-item:first-child::after {align-self: flex-end;width: 50%;}#sk-container-id-2 div.sk-parallel-item:last-child::after {align-self: flex-start;width: 50%;}#sk-container-id-2 div.sk-parallel-item:only-child::after {width: 0;}#sk-container-id-2 div.sk-dashed-wrapped {border: 1px dashed gray;margin: 0 0.4em 0.5em 0.4em;box-sizing: border-box;padding-bottom: 0.4em;background-color: white;}#sk-container-id-2 div.sk-label label {font-family: monospace;font-weight: bold;display: inline-block;line-height: 1.2em;}#sk-container-id-2 div.sk-label-container {text-align: center;}#sk-container-id-2 div.sk-container {/* jupyter's `normalize.less` sets `[hidden] { display: none; }` but bootstrap.min.css set `[hidden] { display: none !important; }` so we also need the `!important` here to be able to override the default hidden behavior on the sphinx rendered scikit-learn.org. See: https://github.com/scikit-learn/scikit-learn/issues/21755 */display: inline-block !important;position: relative;}#sk-container-id-2 div.sk-text-repr-fallback {display: none;}</style><div id=\"sk-container-id-2\" class=\"sk-top-container\"><div class=\"sk-text-repr-fallback\"><pre>SVC()</pre><b>In a Jupyter environment, please rerun this cell to show the HTML representation or trust the notebook. <br />On GitHub, the HTML representation is unable to render, please try loading this page with nbviewer.org.</b></div><div class=\"sk-container\" hidden><div class=\"sk-item\"><div class=\"sk-estimator sk-toggleable\"><input class=\"sk-toggleable__control sk-hidden--visually\" id=\"sk-estimator-id-2\" type=\"checkbox\" checked><label for=\"sk-estimator-id-2\" class=\"sk-toggleable__label sk-toggleable__label-arrow\">SVC</label><div class=\"sk-toggleable__content\"><pre>SVC()</pre></div></div></div></div></div>"
      ],
      "text/plain": [
       "SVC()"
      ]
     },
     "execution_count": 66,
     "metadata": {},
     "output_type": "execute_result"
    }
   ],
   "source": [
    "# use of SVC algorithm\n",
    "from sklearn.svm import SVC\n",
    "model_svc = SVC()\n",
    "model_svc.fit(X_train,Y_train)"
   ]
  },
  {
   "cell_type": "code",
   "execution_count": 67,
   "id": "8acefd92-54ba-4e50-9473-f8a6d72b29ca",
   "metadata": {},
   "outputs": [
    {
     "name": "stdout",
     "output_type": "stream",
     "text": [
      "Accuracy on training data :  1.0\n",
      "Accuracy on test data :  1.0\n",
      "Overall acuracy of SVC= 100.0\n"
     ]
    }
   ],
   "source": [
    "# accuracy of SVC algorithm\n",
    "\n",
    "#accuracy on training data\n",
    "X_train_prediction = model_svc.predict(X_train)\n",
    "training_data_accuracy = accuracy_score(X_train_prediction, Y_train)\n",
    "print('Accuracy on training data : ', training_data_accuracy)\n",
    "\n",
    "#accuracy on test data\n",
    "X_test_prediction = model_svc.predict(X_test)\n",
    "test_data_accuracy = accuracy_score(X_test_prediction, Y_test)\n",
    "print('Accuracy on test data : ', test_data_accuracy)\n",
    "ov = ((training_data_accuracy+test_data_accuracy)/2)*100\n",
    "print('Overall acuracy of SVC=',ov )"
   ]
  },
  {
   "cell_type": "code",
   "execution_count": 68,
   "id": "13160c50-bf36-4102-a2e6-c3ac2e5ab4c8",
   "metadata": {},
   "outputs": [
    {
     "data": {
      "text/html": [
       "<style>#sk-container-id-3 {color: black;}#sk-container-id-3 pre{padding: 0;}#sk-container-id-3 div.sk-toggleable {background-color: white;}#sk-container-id-3 label.sk-toggleable__label {cursor: pointer;display: block;width: 100%;margin-bottom: 0;padding: 0.3em;box-sizing: border-box;text-align: center;}#sk-container-id-3 label.sk-toggleable__label-arrow:before {content: \"▸\";float: left;margin-right: 0.25em;color: #696969;}#sk-container-id-3 label.sk-toggleable__label-arrow:hover:before {color: black;}#sk-container-id-3 div.sk-estimator:hover label.sk-toggleable__label-arrow:before {color: black;}#sk-container-id-3 div.sk-toggleable__content {max-height: 0;max-width: 0;overflow: hidden;text-align: left;background-color: #f0f8ff;}#sk-container-id-3 div.sk-toggleable__content pre {margin: 0.2em;color: black;border-radius: 0.25em;background-color: #f0f8ff;}#sk-container-id-3 input.sk-toggleable__control:checked~div.sk-toggleable__content {max-height: 200px;max-width: 100%;overflow: auto;}#sk-container-id-3 input.sk-toggleable__control:checked~label.sk-toggleable__label-arrow:before {content: \"▾\";}#sk-container-id-3 div.sk-estimator input.sk-toggleable__control:checked~label.sk-toggleable__label {background-color: #d4ebff;}#sk-container-id-3 div.sk-label input.sk-toggleable__control:checked~label.sk-toggleable__label {background-color: #d4ebff;}#sk-container-id-3 input.sk-hidden--visually {border: 0;clip: rect(1px 1px 1px 1px);clip: rect(1px, 1px, 1px, 1px);height: 1px;margin: -1px;overflow: hidden;padding: 0;position: absolute;width: 1px;}#sk-container-id-3 div.sk-estimator {font-family: monospace;background-color: #f0f8ff;border: 1px dotted black;border-radius: 0.25em;box-sizing: border-box;margin-bottom: 0.5em;}#sk-container-id-3 div.sk-estimator:hover {background-color: #d4ebff;}#sk-container-id-3 div.sk-parallel-item::after {content: \"\";width: 100%;border-bottom: 1px solid gray;flex-grow: 1;}#sk-container-id-3 div.sk-label:hover label.sk-toggleable__label {background-color: #d4ebff;}#sk-container-id-3 div.sk-serial::before {content: \"\";position: absolute;border-left: 1px solid gray;box-sizing: border-box;top: 0;bottom: 0;left: 50%;z-index: 0;}#sk-container-id-3 div.sk-serial {display: flex;flex-direction: column;align-items: center;background-color: white;padding-right: 0.2em;padding-left: 0.2em;position: relative;}#sk-container-id-3 div.sk-item {position: relative;z-index: 1;}#sk-container-id-3 div.sk-parallel {display: flex;align-items: stretch;justify-content: center;background-color: white;position: relative;}#sk-container-id-3 div.sk-item::before, #sk-container-id-3 div.sk-parallel-item::before {content: \"\";position: absolute;border-left: 1px solid gray;box-sizing: border-box;top: 0;bottom: 0;left: 50%;z-index: -1;}#sk-container-id-3 div.sk-parallel-item {display: flex;flex-direction: column;z-index: 1;position: relative;background-color: white;}#sk-container-id-3 div.sk-parallel-item:first-child::after {align-self: flex-end;width: 50%;}#sk-container-id-3 div.sk-parallel-item:last-child::after {align-self: flex-start;width: 50%;}#sk-container-id-3 div.sk-parallel-item:only-child::after {width: 0;}#sk-container-id-3 div.sk-dashed-wrapped {border: 1px dashed gray;margin: 0 0.4em 0.5em 0.4em;box-sizing: border-box;padding-bottom: 0.4em;background-color: white;}#sk-container-id-3 div.sk-label label {font-family: monospace;font-weight: bold;display: inline-block;line-height: 1.2em;}#sk-container-id-3 div.sk-label-container {text-align: center;}#sk-container-id-3 div.sk-container {/* jupyter's `normalize.less` sets `[hidden] { display: none; }` but bootstrap.min.css set `[hidden] { display: none !important; }` so we also need the `!important` here to be able to override the default hidden behavior on the sphinx rendered scikit-learn.org. See: https://github.com/scikit-learn/scikit-learn/issues/21755 */display: inline-block !important;position: relative;}#sk-container-id-3 div.sk-text-repr-fallback {display: none;}</style><div id=\"sk-container-id-3\" class=\"sk-top-container\"><div class=\"sk-text-repr-fallback\"><pre>GaussianNB()</pre><b>In a Jupyter environment, please rerun this cell to show the HTML representation or trust the notebook. <br />On GitHub, the HTML representation is unable to render, please try loading this page with nbviewer.org.</b></div><div class=\"sk-container\" hidden><div class=\"sk-item\"><div class=\"sk-estimator sk-toggleable\"><input class=\"sk-toggleable__control sk-hidden--visually\" id=\"sk-estimator-id-3\" type=\"checkbox\" checked><label for=\"sk-estimator-id-3\" class=\"sk-toggleable__label sk-toggleable__label-arrow\">GaussianNB</label><div class=\"sk-toggleable__content\"><pre>GaussianNB()</pre></div></div></div></div></div>"
      ],
      "text/plain": [
       "GaussianNB()"
      ]
     },
     "execution_count": 68,
     "metadata": {},
     "output_type": "execute_result"
    }
   ],
   "source": [
    "# use of Naive bayes algorithm\n",
    "from sklearn.naive_bayes import GaussianNB\n",
    "model_nb = GaussianNB()\n",
    "model_nb.fit(X_train,Y_train)"
   ]
  },
  {
   "cell_type": "code",
   "execution_count": 69,
   "id": "a17a431d-73d0-44d3-9918-9f898b47937b",
   "metadata": {},
   "outputs": [
    {
     "name": "stdout",
     "output_type": "stream",
     "text": [
      "Accuracy on training data :  1.0\n",
      "Accuracy on test data :  1.0\n",
      "Overall acuracy of GaussianNB= 100.0\n"
     ]
    }
   ],
   "source": [
    "# accuracy of Naive bayes algorithm\n",
    "\n",
    "#accuracy on training data\n",
    "X_train_prediction = model_nb.predict(X_train)\n",
    "training_data_accuracy = accuracy_score(X_train_prediction, Y_train)\n",
    "print('Accuracy on training data : ', training_data_accuracy)\n",
    "\n",
    "#accuracy on test data\n",
    "X_test_prediction = model_nb.predict(X_test)\n",
    "test_data_accuracy = accuracy_score(X_test_prediction, Y_test)\n",
    "print('Accuracy on test data : ', test_data_accuracy)\n",
    "ov = ((training_data_accuracy+test_data_accuracy)/2)*100\n",
    "print('Overall acuracy of GaussianNB=',ov )"
   ]
  },
  {
   "cell_type": "code",
   "execution_count": 70,
   "id": "051aa77b-2fae-46a0-9ece-a2d1600a92c8",
   "metadata": {},
   "outputs": [
    {
     "data": {
      "text/html": [
       "<style>#sk-container-id-4 {color: black;}#sk-container-id-4 pre{padding: 0;}#sk-container-id-4 div.sk-toggleable {background-color: white;}#sk-container-id-4 label.sk-toggleable__label {cursor: pointer;display: block;width: 100%;margin-bottom: 0;padding: 0.3em;box-sizing: border-box;text-align: center;}#sk-container-id-4 label.sk-toggleable__label-arrow:before {content: \"▸\";float: left;margin-right: 0.25em;color: #696969;}#sk-container-id-4 label.sk-toggleable__label-arrow:hover:before {color: black;}#sk-container-id-4 div.sk-estimator:hover label.sk-toggleable__label-arrow:before {color: black;}#sk-container-id-4 div.sk-toggleable__content {max-height: 0;max-width: 0;overflow: hidden;text-align: left;background-color: #f0f8ff;}#sk-container-id-4 div.sk-toggleable__content pre {margin: 0.2em;color: black;border-radius: 0.25em;background-color: #f0f8ff;}#sk-container-id-4 input.sk-toggleable__control:checked~div.sk-toggleable__content {max-height: 200px;max-width: 100%;overflow: auto;}#sk-container-id-4 input.sk-toggleable__control:checked~label.sk-toggleable__label-arrow:before {content: \"▾\";}#sk-container-id-4 div.sk-estimator input.sk-toggleable__control:checked~label.sk-toggleable__label {background-color: #d4ebff;}#sk-container-id-4 div.sk-label input.sk-toggleable__control:checked~label.sk-toggleable__label {background-color: #d4ebff;}#sk-container-id-4 input.sk-hidden--visually {border: 0;clip: rect(1px 1px 1px 1px);clip: rect(1px, 1px, 1px, 1px);height: 1px;margin: -1px;overflow: hidden;padding: 0;position: absolute;width: 1px;}#sk-container-id-4 div.sk-estimator {font-family: monospace;background-color: #f0f8ff;border: 1px dotted black;border-radius: 0.25em;box-sizing: border-box;margin-bottom: 0.5em;}#sk-container-id-4 div.sk-estimator:hover {background-color: #d4ebff;}#sk-container-id-4 div.sk-parallel-item::after {content: \"\";width: 100%;border-bottom: 1px solid gray;flex-grow: 1;}#sk-container-id-4 div.sk-label:hover label.sk-toggleable__label {background-color: #d4ebff;}#sk-container-id-4 div.sk-serial::before {content: \"\";position: absolute;border-left: 1px solid gray;box-sizing: border-box;top: 0;bottom: 0;left: 50%;z-index: 0;}#sk-container-id-4 div.sk-serial {display: flex;flex-direction: column;align-items: center;background-color: white;padding-right: 0.2em;padding-left: 0.2em;position: relative;}#sk-container-id-4 div.sk-item {position: relative;z-index: 1;}#sk-container-id-4 div.sk-parallel {display: flex;align-items: stretch;justify-content: center;background-color: white;position: relative;}#sk-container-id-4 div.sk-item::before, #sk-container-id-4 div.sk-parallel-item::before {content: \"\";position: absolute;border-left: 1px solid gray;box-sizing: border-box;top: 0;bottom: 0;left: 50%;z-index: -1;}#sk-container-id-4 div.sk-parallel-item {display: flex;flex-direction: column;z-index: 1;position: relative;background-color: white;}#sk-container-id-4 div.sk-parallel-item:first-child::after {align-self: flex-end;width: 50%;}#sk-container-id-4 div.sk-parallel-item:last-child::after {align-self: flex-start;width: 50%;}#sk-container-id-4 div.sk-parallel-item:only-child::after {width: 0;}#sk-container-id-4 div.sk-dashed-wrapped {border: 1px dashed gray;margin: 0 0.4em 0.5em 0.4em;box-sizing: border-box;padding-bottom: 0.4em;background-color: white;}#sk-container-id-4 div.sk-label label {font-family: monospace;font-weight: bold;display: inline-block;line-height: 1.2em;}#sk-container-id-4 div.sk-label-container {text-align: center;}#sk-container-id-4 div.sk-container {/* jupyter's `normalize.less` sets `[hidden] { display: none; }` but bootstrap.min.css set `[hidden] { display: none !important; }` so we also need the `!important` here to be able to override the default hidden behavior on the sphinx rendered scikit-learn.org. See: https://github.com/scikit-learn/scikit-learn/issues/21755 */display: inline-block !important;position: relative;}#sk-container-id-4 div.sk-text-repr-fallback {display: none;}</style><div id=\"sk-container-id-4\" class=\"sk-top-container\"><div class=\"sk-text-repr-fallback\"><pre>KNeighborsClassifier()</pre><b>In a Jupyter environment, please rerun this cell to show the HTML representation or trust the notebook. <br />On GitHub, the HTML representation is unable to render, please try loading this page with nbviewer.org.</b></div><div class=\"sk-container\" hidden><div class=\"sk-item\"><div class=\"sk-estimator sk-toggleable\"><input class=\"sk-toggleable__control sk-hidden--visually\" id=\"sk-estimator-id-4\" type=\"checkbox\" checked><label for=\"sk-estimator-id-4\" class=\"sk-toggleable__label sk-toggleable__label-arrow\">KNeighborsClassifier</label><div class=\"sk-toggleable__content\"><pre>KNeighborsClassifier()</pre></div></div></div></div></div>"
      ],
      "text/plain": [
       "KNeighborsClassifier()"
      ]
     },
     "execution_count": 70,
     "metadata": {},
     "output_type": "execute_result"
    }
   ],
   "source": [
    "# use of KNN algorithm\n",
    "from sklearn.neighbors import KNeighborsClassifier\n",
    "model_knn = KNeighborsClassifier()\n",
    "model_knn.fit(X_train,Y_train)"
   ]
  },
  {
   "cell_type": "code",
   "execution_count": 71,
   "id": "efb28053-525b-4ddd-8699-e1058520bdc4",
   "metadata": {},
   "outputs": [
    {
     "name": "stdout",
     "output_type": "stream",
     "text": [
      "Accuracy on training data :  1.0\n",
      "Accuracy on test data :  1.0\n",
      "Overall acuracy of KNN= 100.0\n"
     ]
    }
   ],
   "source": [
    "# accuracy of KNN algorithm\n",
    "#accuracy on training data\n",
    "X_train_prediction = model_knn.predict(X_train)\n",
    "training_data_accuracy = accuracy_score(X_train_prediction, Y_train)\n",
    "print('Accuracy on training data : ', training_data_accuracy)\n",
    "\n",
    "#accuracy on test data\n",
    "X_test_prediction = model_knn.predict(X_test)\n",
    "test_data_accuracy = accuracy_score(X_test_prediction, Y_test)\n",
    "print('Accuracy on test data : ', test_data_accuracy)\n",
    "ov = ((training_data_accuracy+test_data_accuracy)/2)*100\n",
    "print('Overall acuracy of KNN=',ov )"
   ]
  },
  {
   "cell_type": "code",
   "execution_count": 72,
   "id": "3e6e5c75-7873-4b21-81d4-cbe3cf100210",
   "metadata": {},
   "outputs": [
    {
     "data": {
      "text/html": [
       "<style>#sk-container-id-5 {color: black;}#sk-container-id-5 pre{padding: 0;}#sk-container-id-5 div.sk-toggleable {background-color: white;}#sk-container-id-5 label.sk-toggleable__label {cursor: pointer;display: block;width: 100%;margin-bottom: 0;padding: 0.3em;box-sizing: border-box;text-align: center;}#sk-container-id-5 label.sk-toggleable__label-arrow:before {content: \"▸\";float: left;margin-right: 0.25em;color: #696969;}#sk-container-id-5 label.sk-toggleable__label-arrow:hover:before {color: black;}#sk-container-id-5 div.sk-estimator:hover label.sk-toggleable__label-arrow:before {color: black;}#sk-container-id-5 div.sk-toggleable__content {max-height: 0;max-width: 0;overflow: hidden;text-align: left;background-color: #f0f8ff;}#sk-container-id-5 div.sk-toggleable__content pre {margin: 0.2em;color: black;border-radius: 0.25em;background-color: #f0f8ff;}#sk-container-id-5 input.sk-toggleable__control:checked~div.sk-toggleable__content {max-height: 200px;max-width: 100%;overflow: auto;}#sk-container-id-5 input.sk-toggleable__control:checked~label.sk-toggleable__label-arrow:before {content: \"▾\";}#sk-container-id-5 div.sk-estimator input.sk-toggleable__control:checked~label.sk-toggleable__label {background-color: #d4ebff;}#sk-container-id-5 div.sk-label input.sk-toggleable__control:checked~label.sk-toggleable__label {background-color: #d4ebff;}#sk-container-id-5 input.sk-hidden--visually {border: 0;clip: rect(1px 1px 1px 1px);clip: rect(1px, 1px, 1px, 1px);height: 1px;margin: -1px;overflow: hidden;padding: 0;position: absolute;width: 1px;}#sk-container-id-5 div.sk-estimator {font-family: monospace;background-color: #f0f8ff;border: 1px dotted black;border-radius: 0.25em;box-sizing: border-box;margin-bottom: 0.5em;}#sk-container-id-5 div.sk-estimator:hover {background-color: #d4ebff;}#sk-container-id-5 div.sk-parallel-item::after {content: \"\";width: 100%;border-bottom: 1px solid gray;flex-grow: 1;}#sk-container-id-5 div.sk-label:hover label.sk-toggleable__label {background-color: #d4ebff;}#sk-container-id-5 div.sk-serial::before {content: \"\";position: absolute;border-left: 1px solid gray;box-sizing: border-box;top: 0;bottom: 0;left: 50%;z-index: 0;}#sk-container-id-5 div.sk-serial {display: flex;flex-direction: column;align-items: center;background-color: white;padding-right: 0.2em;padding-left: 0.2em;position: relative;}#sk-container-id-5 div.sk-item {position: relative;z-index: 1;}#sk-container-id-5 div.sk-parallel {display: flex;align-items: stretch;justify-content: center;background-color: white;position: relative;}#sk-container-id-5 div.sk-item::before, #sk-container-id-5 div.sk-parallel-item::before {content: \"\";position: absolute;border-left: 1px solid gray;box-sizing: border-box;top: 0;bottom: 0;left: 50%;z-index: -1;}#sk-container-id-5 div.sk-parallel-item {display: flex;flex-direction: column;z-index: 1;position: relative;background-color: white;}#sk-container-id-5 div.sk-parallel-item:first-child::after {align-self: flex-end;width: 50%;}#sk-container-id-5 div.sk-parallel-item:last-child::after {align-self: flex-start;width: 50%;}#sk-container-id-5 div.sk-parallel-item:only-child::after {width: 0;}#sk-container-id-5 div.sk-dashed-wrapped {border: 1px dashed gray;margin: 0 0.4em 0.5em 0.4em;box-sizing: border-box;padding-bottom: 0.4em;background-color: white;}#sk-container-id-5 div.sk-label label {font-family: monospace;font-weight: bold;display: inline-block;line-height: 1.2em;}#sk-container-id-5 div.sk-label-container {text-align: center;}#sk-container-id-5 div.sk-container {/* jupyter's `normalize.less` sets `[hidden] { display: none; }` but bootstrap.min.css set `[hidden] { display: none !important; }` so we also need the `!important` here to be able to override the default hidden behavior on the sphinx rendered scikit-learn.org. See: https://github.com/scikit-learn/scikit-learn/issues/21755 */display: inline-block !important;position: relative;}#sk-container-id-5 div.sk-text-repr-fallback {display: none;}</style><div id=\"sk-container-id-5\" class=\"sk-top-container\"><div class=\"sk-text-repr-fallback\"><pre>DecisionTreeClassifier()</pre><b>In a Jupyter environment, please rerun this cell to show the HTML representation or trust the notebook. <br />On GitHub, the HTML representation is unable to render, please try loading this page with nbviewer.org.</b></div><div class=\"sk-container\" hidden><div class=\"sk-item\"><div class=\"sk-estimator sk-toggleable\"><input class=\"sk-toggleable__control sk-hidden--visually\" id=\"sk-estimator-id-5\" type=\"checkbox\" checked><label for=\"sk-estimator-id-5\" class=\"sk-toggleable__label sk-toggleable__label-arrow\">DecisionTreeClassifier</label><div class=\"sk-toggleable__content\"><pre>DecisionTreeClassifier()</pre></div></div></div></div></div>"
      ],
      "text/plain": [
       "DecisionTreeClassifier()"
      ]
     },
     "execution_count": 72,
     "metadata": {},
     "output_type": "execute_result"
    }
   ],
   "source": [
    "# use of decision trees algorithm\n",
    "from sklearn.tree import DecisionTreeClassifier\n",
    "model_dt = DecisionTreeClassifier()\n",
    "model_dt.fit(X_train,Y_train)"
   ]
  },
  {
   "cell_type": "code",
   "execution_count": 73,
   "id": "bfd024e9-d1bc-4f83-90fe-19ea476b7a47",
   "metadata": {},
   "outputs": [
    {
     "name": "stdout",
     "output_type": "stream",
     "text": [
      "Accuracy on training data :  1.0\n",
      "Accuracy on test data :  1.0\n",
      "Overall acuracy of DecisionTreeClassifier= 100.0\n"
     ]
    }
   ],
   "source": [
    "# accuracy of decision tree algorithm\n",
    "#accuracy on training data\n",
    "X_train_prediction = model_dt.predict(X_train)\n",
    "training_data_accuracy = accuracy_score(X_train_prediction, Y_train)\n",
    "print('Accuracy on training data : ', training_data_accuracy)\n",
    "\n",
    "#accuracy on test data\n",
    "X_test_prediction = model_dt.predict(X_test)\n",
    "test_data_accuracy = accuracy_score(X_test_prediction, Y_test)\n",
    "print('Accuracy on test data : ', test_data_accuracy)\n",
    "ov = ((training_data_accuracy+test_data_accuracy)/2)*100\n",
    "print('Overall acuracy of DecisionTreeClassifier=',ov )"
   ]
  },
  {
   "cell_type": "code",
   "execution_count": 74,
   "id": "c0dac909-e885-490f-b194-8a0e4603e34c",
   "metadata": {},
   "outputs": [
    {
     "data": {
      "text/html": [
       "<style>#sk-container-id-6 {color: black;}#sk-container-id-6 pre{padding: 0;}#sk-container-id-6 div.sk-toggleable {background-color: white;}#sk-container-id-6 label.sk-toggleable__label {cursor: pointer;display: block;width: 100%;margin-bottom: 0;padding: 0.3em;box-sizing: border-box;text-align: center;}#sk-container-id-6 label.sk-toggleable__label-arrow:before {content: \"▸\";float: left;margin-right: 0.25em;color: #696969;}#sk-container-id-6 label.sk-toggleable__label-arrow:hover:before {color: black;}#sk-container-id-6 div.sk-estimator:hover label.sk-toggleable__label-arrow:before {color: black;}#sk-container-id-6 div.sk-toggleable__content {max-height: 0;max-width: 0;overflow: hidden;text-align: left;background-color: #f0f8ff;}#sk-container-id-6 div.sk-toggleable__content pre {margin: 0.2em;color: black;border-radius: 0.25em;background-color: #f0f8ff;}#sk-container-id-6 input.sk-toggleable__control:checked~div.sk-toggleable__content {max-height: 200px;max-width: 100%;overflow: auto;}#sk-container-id-6 input.sk-toggleable__control:checked~label.sk-toggleable__label-arrow:before {content: \"▾\";}#sk-container-id-6 div.sk-estimator input.sk-toggleable__control:checked~label.sk-toggleable__label {background-color: #d4ebff;}#sk-container-id-6 div.sk-label input.sk-toggleable__control:checked~label.sk-toggleable__label {background-color: #d4ebff;}#sk-container-id-6 input.sk-hidden--visually {border: 0;clip: rect(1px 1px 1px 1px);clip: rect(1px, 1px, 1px, 1px);height: 1px;margin: -1px;overflow: hidden;padding: 0;position: absolute;width: 1px;}#sk-container-id-6 div.sk-estimator {font-family: monospace;background-color: #f0f8ff;border: 1px dotted black;border-radius: 0.25em;box-sizing: border-box;margin-bottom: 0.5em;}#sk-container-id-6 div.sk-estimator:hover {background-color: #d4ebff;}#sk-container-id-6 div.sk-parallel-item::after {content: \"\";width: 100%;border-bottom: 1px solid gray;flex-grow: 1;}#sk-container-id-6 div.sk-label:hover label.sk-toggleable__label {background-color: #d4ebff;}#sk-container-id-6 div.sk-serial::before {content: \"\";position: absolute;border-left: 1px solid gray;box-sizing: border-box;top: 0;bottom: 0;left: 50%;z-index: 0;}#sk-container-id-6 div.sk-serial {display: flex;flex-direction: column;align-items: center;background-color: white;padding-right: 0.2em;padding-left: 0.2em;position: relative;}#sk-container-id-6 div.sk-item {position: relative;z-index: 1;}#sk-container-id-6 div.sk-parallel {display: flex;align-items: stretch;justify-content: center;background-color: white;position: relative;}#sk-container-id-6 div.sk-item::before, #sk-container-id-6 div.sk-parallel-item::before {content: \"\";position: absolute;border-left: 1px solid gray;box-sizing: border-box;top: 0;bottom: 0;left: 50%;z-index: -1;}#sk-container-id-6 div.sk-parallel-item {display: flex;flex-direction: column;z-index: 1;position: relative;background-color: white;}#sk-container-id-6 div.sk-parallel-item:first-child::after {align-self: flex-end;width: 50%;}#sk-container-id-6 div.sk-parallel-item:last-child::after {align-self: flex-start;width: 50%;}#sk-container-id-6 div.sk-parallel-item:only-child::after {width: 0;}#sk-container-id-6 div.sk-dashed-wrapped {border: 1px dashed gray;margin: 0 0.4em 0.5em 0.4em;box-sizing: border-box;padding-bottom: 0.4em;background-color: white;}#sk-container-id-6 div.sk-label label {font-family: monospace;font-weight: bold;display: inline-block;line-height: 1.2em;}#sk-container-id-6 div.sk-label-container {text-align: center;}#sk-container-id-6 div.sk-container {/* jupyter's `normalize.less` sets `[hidden] { display: none; }` but bootstrap.min.css set `[hidden] { display: none !important; }` so we also need the `!important` here to be able to override the default hidden behavior on the sphinx rendered scikit-learn.org. See: https://github.com/scikit-learn/scikit-learn/issues/21755 */display: inline-block !important;position: relative;}#sk-container-id-6 div.sk-text-repr-fallback {display: none;}</style><div id=\"sk-container-id-6\" class=\"sk-top-container\"><div class=\"sk-text-repr-fallback\"><pre>RandomForestClassifier()</pre><b>In a Jupyter environment, please rerun this cell to show the HTML representation or trust the notebook. <br />On GitHub, the HTML representation is unable to render, please try loading this page with nbviewer.org.</b></div><div class=\"sk-container\" hidden><div class=\"sk-item\"><div class=\"sk-estimator sk-toggleable\"><input class=\"sk-toggleable__control sk-hidden--visually\" id=\"sk-estimator-id-6\" type=\"checkbox\" checked><label for=\"sk-estimator-id-6\" class=\"sk-toggleable__label sk-toggleable__label-arrow\">RandomForestClassifier</label><div class=\"sk-toggleable__content\"><pre>RandomForestClassifier()</pre></div></div></div></div></div>"
      ],
      "text/plain": [
       "RandomForestClassifier()"
      ]
     },
     "execution_count": 74,
     "metadata": {},
     "output_type": "execute_result"
    }
   ],
   "source": [
    "# use of random forest algorithm\n",
    "from sklearn.ensemble import RandomForestClassifier\n",
    "model_rfa = RandomForestClassifier()\n",
    "model_rfa.fit(X_train,Y_train)"
   ]
  },
  {
   "cell_type": "code",
   "execution_count": 75,
   "id": "7e61e4a1-e118-4678-87a0-d975fc10787d",
   "metadata": {},
   "outputs": [
    {
     "name": "stdout",
     "output_type": "stream",
     "text": [
      "Accuracy on training data :  1.0\n",
      "Accuracy on test data :  1.0\n",
      "Overall acuracy of DecisionTreeClassifier= 100.0\n"
     ]
    }
   ],
   "source": [
    "# accuracy of decision tree algorithm\n",
    "\n",
    "#accuracy on training data\n",
    "X_train_prediction = model_rfa.predict(X_train)\n",
    "training_data_accuracy = accuracy_score(X_train_prediction, Y_train)\n",
    "print('Accuracy on training data : ', training_data_accuracy)\n",
    "\n",
    "#accuracy on test data\n",
    "X_test_prediction = model_rfa.predict(X_test)\n",
    "test_data_accuracy = accuracy_score(X_test_prediction, Y_test)\n",
    "print('Accuracy on test data : ', test_data_accuracy)\n",
    "ov = ((training_data_accuracy+test_data_accuracy)/2)*100\n",
    "print('Overall acuracy of DecisionTreeClassifier=',ov )"
   ]
  },
  {
   "cell_type": "code",
   "execution_count": 76,
   "id": "92419b88-94b9-44e6-9646-6fb38bfe4044",
   "metadata": {},
   "outputs": [
    {
     "name": "stdout",
     "output_type": "stream",
     "text": [
      "Confusion Matrix for Testing\n"
     ]
    },
    {
     "data": {
      "image/png": "[encoded data removed]",
      "text/plain": [
       "<Figure size 640x480 with 2 Axes>"
      ]
     },
     "metadata": {},
     "output_type": "display_data"
    }
   ],
   "source": [
    "actual = Y_test\n",
    "predicted = X_test_prediction\n",
    "\n",
    "confusion_matrix = metrics.confusion_matrix(actual, predicted)\n",
    "\n",
    "cm_display = metrics.ConfusionMatrixDisplay(confusion_matrix = confusion_matrix, display_labels = [False, True])\n",
    "print(\"Confusion Matrix for Testing\")\n",
    "cm_display.plot()\n",
    "plt.show()"
   ]
  },
  {
   "cell_type": "code",
   "execution_count": 77,
   "id": "199417af-5a6c-4e18-9945-af3cac8c3f14",
   "metadata": {},
   "outputs": [
    {
     "name": "stdout",
     "output_type": "stream",
     "text": [
      "Confusion Matrix for Training\n"
     ]
    },
    {
     "data": {
      "image/png": "[encoded data removed]",
      "text/plain": [
       "<Figure size 640x480 with 2 Axes>"
      ]
     },
     "metadata": {},
     "output_type": "display_data"
    }
   ],
   "source": [
    "actual = Y_train\n",
    "predicted = X_train_prediction\n",
    "\n",
    "confusion_matrix = metrics.confusion_matrix(actual, predicted)\n",
    "\n",
    "cm_display = metrics.ConfusionMatrixDisplay(confusion_matrix = confusion_matrix, display_labels = [False, True])\n",
    "print(\"Confusion Matrix for Training\")\n",
    "cm_display.plot()\n",
    "plt.show()"
   ]
  },
  {
   "cell_type": "code",
   "execution_count": 78,
   "id": "1ed55589-92d6-4e91-8138-1359260e86bc",
   "metadata": {},
   "outputs": [
    {
     "name": "stdout",
     "output_type": "stream",
     "text": [
      "100.0\n"
     ]
    }
   ],
   "source": [
    "Accuracy = metrics.accuracy_score(actual, predicted)\n",
    "print(Accuracy*100)"
   ]
  },
  {
   "cell_type": "code",
   "execution_count": 79,
   "id": "89e2f486-0c13-49d2-8c4a-ef71229ef294",
   "metadata": {},
   "outputs": [
    {
     "name": "stdout",
     "output_type": "stream",
     "text": [
      "100.0\n"
     ]
    }
   ],
   "source": [
    "Precision = metrics.precision_score(actual, predicted)\n",
    "print(Precision*100)"
   ]
  },
  {
   "cell_type": "code",
   "execution_count": 80,
   "id": "eb62458e-c345-488a-ab7e-8385015b2fc2",
   "metadata": {},
   "outputs": [
    {
     "name": "stdout",
     "output_type": "stream",
     "text": [
      "100.0\n"
     ]
    }
   ],
   "source": [
    "Sensitivity_recall = metrics.recall_score(actual, predicted)\n",
    "print(Sensitivity_recall*100)"
   ]
  },
  {
   "cell_type": "code",
   "execution_count": 81,
   "id": "5b9b6398-74cd-47de-9003-65f9ab26f832",
   "metadata": {},
   "outputs": [
    {
     "name": "stdout",
     "output_type": "stream",
     "text": [
      "100.0\n"
     ]
    }
   ],
   "source": [
    "Specificity = metrics.recall_score(actual, predicted, pos_label=0)\n",
    "print(Specificity*100)"
   ]
  },
  {
   "cell_type": "code",
   "execution_count": 82,
   "id": "6811cb29-6373-4b82-8e10-bf980e3f3aec",
   "metadata": {},
   "outputs": [
    {
     "name": "stdout",
     "output_type": "stream",
     "text": [
      "100.0\n"
     ]
    }
   ],
   "source": [
    "F1_score = metrics.f1_score(actual, predicted)\n",
    "print(F1_score*100)"
   ]
  },
  {
   "cell_type": "code",
   "execution_count": 84,
   "id": "c509fb1d-b24b-4ee5-8b1a-79c314246b6e",
   "metadata": {},
   "outputs": [
    {
     "name": "stdout",
     "output_type": "stream",
     "text": [
      "[1]\n",
      "Diamond is a real diamond\n"
     ]
    },
    {
     "name": "stderr",
     "output_type": "stream",
     "text": [
      "C:\\Users\\swaraj\\AppData\\Local\\Programs\\Python\\Python312\\Lib\\site-packages\\sklearn\\base.py:465: UserWarning: X does not have valid feature names, but RandomForestClassifier was fitted with feature names\n",
      "  warnings.warn(\n"
     ]
    }
   ],
   "source": [
    "\n",
    "input_data = [576625,0.3,3,4,3,3,69.3531893228229,69.9307475719108,5.59760475572973,5.39489907616003,4.61206035224794,1,1,0,0,1,1.03757358139755,0.963787068145136,0.85489279542384,0.273461565358174,5.10020792255344,6.47373121140968]\n",
    "\n",
    "# changing the input_data to a numpy array\n",
    "input_data_as_numpy_array = np.asarray(input_data)\n",
    "\n",
    "# reshape the np array as we are predicting for one instance\n",
    "input_data_reshaped = input_data_as_numpy_array.reshape(1,-1)\n",
    "\n",
    "prediction = model_rfa.predict(input_data_reshaped)\n",
    "print(prediction)\n",
    "\n",
    "if (prediction[0]==1):\n",
    "  print('Diamond is a real diamond')\n",
    "else:\n",
    "  print('Diamond is a fake diamond')\n"
   ]
  },
  {
   "cell_type": "code",
   "execution_count": null,
   "id": "59cdc556-b2b8-4398-bdd6-8167bd70413e",
   "metadata": {},
   "outputs": [],
   "source": []
  },
  {
   "cell_type": "code",
   "execution_count": 85,
   "id": "0d18f14e-509c-4c87-8d8b-9966c358b9b4",
   "metadata": {},
   "outputs": [],
   "source": [
    "import pickle\n",
    "pickle.dump(model_rfa,open('fourty_parameter_rfa.pkl','wb'))"
   ]
  },
  {
   "cell_type": "code",
   "execution_count": null,
   "id": "1b24446b-384c-4444-9350-801ffecba1c8",
   "metadata": {},
   "outputs": [],
   "source": []
  }
 ],
 "metadata": {
  "kernelspec": {
   "display_name": "Python 3 (ipykernel)",
   "language": "python",
   "name": "python3"
  },
  "language_info": {
   "codemirror_mode": {
    "name": "ipython",
    "version": 3
   },
   "file_extension": ".py",
   "mimetype": "text/x-python",
   "name": "python",
   "nbconvert_exporter": "python",
   "pygments_lexer": "ipython3",
   "version": "3.12.1"
  }
 },
 "nbformat": 4,
 "nbformat_minor": 5
}
